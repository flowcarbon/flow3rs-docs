{
 "cells": [
  {
   "cell_type": "markdown",
   "id": "1647cf3b-31e8-4e26-8ad6-32484fd455f8",
   "metadata": {},
   "source": [
    "# Distribution Hash Calc\n",
    "\n",
    "We want the distribution of the pieces to be not predictable!\n",
    "\n",
    "The idea of a distribution hash is that we decide on a random order of token _before_ the auction starts and create a hash of that random order. We add a random salt to this in order make brute forcing the order a challenge.\n",
    "\n",
    "At the end of the auction the list is shifted by the integer value of the clearing price. Since this price was unknown at the beginning of the bidding it makes it even harder to optimize for a specific token."
   ]
  },
  {
   "cell_type": "code",
   "execution_count": 1,
   "id": "7cbedfc8-5c81-4faa-87a9-7642183f1e80",
   "metadata": {},
   "outputs": [],
   "source": [
    "# the randomised order of token ids of the collection within the bucket auction that mark the final distribution\n",
    "# !!! THIS IS NOT THE FINAL LIST, IT'LL BE RELEASED AFTER THE CLEARING PRICE IS SET !!!\n",
    "TOKEN_IDS = [1, 2, 3] \n",
    "\n",
    " # the salt used to spice up the hash\n",
    "SALT = 'THIS IS NOT THE SALT WE ARE USING, WE WILL REVEAL THE REAL SALT AFTER THE CLEARING PRICE IS SET'"
   ]
  },
  {
   "cell_type": "code",
   "execution_count": 2,
   "id": "311e1d8e-9313-4c25-8025-4f3a5643f84f",
   "metadata": {},
   "outputs": [],
   "source": [
    "from web3 import Web3\n",
    "from collections import deque\n",
    "\n",
    "\n",
    "def calculate_distribution_hash():\n",
    "    # the distribution hash is the CSV version of TOKEN_IDS (\"1,2,3\") concatenated with the salt\n",
    "    return Web3.keccak(\n",
    "        text=','.join([str(_) for _ in TOKEN_IDS]) + SALT\n",
    "    ).hex()\n",
    "\n",
    "\n",
    "def shift_by_clearing_price(clearing_price):\n",
    "    token_ids_deque = deque(TOKEN_IDS)\n",
    "    token_ids_deque.rotate(int(clearing_price))\n",
    "    return list(token_ids_deque)"
   ]
  },
  {
   "cell_type": "code",
   "execution_count": 3,
   "id": "686c6f27-9e18-4375-9179-c17c78c86592",
   "metadata": {},
   "outputs": [
    {
     "data": {
      "text/plain": [
       "'0xd82a94074e96593b4701a081b2ce8606bc5ba6d553ea55683daba1f2f371285f'"
      ]
     },
     "execution_count": 3,
     "metadata": {},
     "output_type": "execute_result"
    }
   ],
   "source": [
    "calculate_distribution_hash()"
   ]
  },
  {
   "cell_type": "code",
   "execution_count": 4,
   "id": "1c952777-7d74-4337-96f9-f9de712d5b4f",
   "metadata": {},
   "outputs": [
    {
     "data": {
      "text/plain": [
       "[2, 3, 1]"
      ]
     },
     "execution_count": 4,
     "metadata": {},
     "output_type": "execute_result"
    }
   ],
   "source": [
    "shift_by_clearing_price(14.12)"
   ]
  }
 ],
 "metadata": {
  "kernelspec": {
   "display_name": "Python 3 (ipykernel)",
   "language": "python",
   "name": "python3"
  },
  "language_info": {
   "codemirror_mode": {
    "name": "ipython",
    "version": 3
   },
   "file_extension": ".py",
   "mimetype": "text/x-python",
   "name": "python",
   "nbconvert_exporter": "python",
   "pygments_lexer": "ipython3",
   "version": "3.10.7"
  }
 },
 "nbformat": 4,
 "nbformat_minor": 5
}
