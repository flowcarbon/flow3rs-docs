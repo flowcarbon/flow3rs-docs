{
 "cells": [
  {
   "cell_type": "markdown",
   "id": "43a339a4-26cf-4692-9b0c-7b487ea6d9d3",
   "metadata": {},
   "source": [
    "# Intro\n",
    "\n",
    "This notebook should be providing a brief overview of the optimization algorithm used to determine the clearing price as well as the reasoning behind the design choices involved. \n",
    "\n",
    "Let's first start out by briefly summarizing the auction characteristics as well as the requirements towards the optimization algorithm. \n",
    "\n",
    "## Auction\n",
    "\n",
    "* A fixed number of tokens will be offered for sale in an auction\n",
    "* over a limited period of time bids will be accepted\n",
    "* each bid consists of an address and the bidding amount (some float value of ETH)\n",
    "* after the time period is over this data is \"handed over to\" (consumed by) an optimisation engine to determine the distribution of tokens (and the resulting price per token. \n",
    "   * Sidenote: in reality the algorithm will also be used for intermediate calculations for current clearing price while the auction is still running. However this happens in scheduled refreshes and results are cached. Therefore the runtim of the algorithm is not a critical factor for frontend performance.\n",
    "\n",
    "\n",
    "## Optimisation Goals\n",
    "* maximize total revenue generated with auction\n",
    "\n",
    "## Optimisation Constraints / Distribution Logic\n",
    "\n",
    "* distribute all tokens\n",
    "* users can only get full tokens \n",
    "    * remaining bids have to be reimbursed: total_bid - (price * tokens_assigned)\n",
    "* addresses which do not get any token get their full bid reimbursed\n",
    "\n",
    "**Note: not all of the above mechanism parts are part of the core optimization algorithm presented here.**"
   ]
  },
  {
   "cell_type": "markdown",
   "id": "747d65dc-28bb-4a70-b467-079ba5f67dc3",
   "metadata": {},
   "source": [
    "# Algorithm Choice\n",
    "\n",
    "Of course there are a variety of choices available in such a scenario and this notebook cannot be expected to give an overview of all options.\n",
    "\n",
    "## Other Alternative\n",
    "Initially we considered going with a binary search tree algorithm. This showed very promising results and extremely fast runtimes. However upon closer examination we discovered irregularities in the relationship between potential clearing price and total revenue. So there were realistic scenarios where such an algorithm would not have delivered optimal results.\n",
    "\n",
    "## Full Search\n",
    "Given no strict requirements on runtime and the low number of tokens to be sold we decided to go with a full search over solution space. It roughly works like this:\n",
    "\n",
    "1. Given a certain granularity, split the 1-D space of potential prices into n potential candidate prices\n",
    "2. For all potential candidates determine the resulting volume of tokens distributed\n",
    "3. For all candidate prices which result in exactly n tokens distributed return the clearing price which gives the highest overall revenue."
   ]
  },
  {
   "cell_type": "code",
   "execution_count": 2,
   "id": "8f98a96e-9720-4f7f-883c-37b1ef15918f",
   "metadata": {},
   "outputs": [],
   "source": [
    "import numpy as np\n",
    "import pandas as pd\n",
    "\n",
    "class Optimizer():\n",
    "    def __init__(self, total_tokens, bids=None):\n",
    "        if bids is None:\n",
    "            bids = self.obtain_bids()\n",
    "        \n",
    "        # some reformatting as we only needs bidder:bid format\n",
    "        bids_reformatted = {bid:values[\"contribution_in_wei\"] for bid, values in bids.items()}\n",
    "        self.bids = bids_reformatted\n",
    "        \n",
    "        self.total_tokens = total_tokens\n",
    "    \n",
    "    def determine_volume(self, price):\n",
    "        #token_distribution = {}\n",
    "        bid_prices = [_ for _ in self.bids.values()]\n",
    "        # order bids by price (caution: happens in place with lists)\n",
    "        bid_prices.sort(reverse=True)\n",
    "        # assign full tokens until all bids covered or bid < price:\n",
    "        sold_tokens = 0\n",
    "        for bid in bid_prices:\n",
    "            assigned_tokens = bid // price\n",
    "            sold_tokens += assigned_tokens\n",
    "            \n",
    "            if price > bid:\n",
    "                #token_distribution[price] = \n",
    "                break\n",
    "        return sold_tokens\n",
    "    \n",
    "    def calculate_full_range(self, minimum_price, granularity):\n",
    "        \n",
    "        prices = [price for price in self.bids.values()]\n",
    "        \n",
    "        candidate_prices = {_: {\"volume\": 0, \"total_revenue\":0} for _ in np.linspace(minimum_price, max(prices), granularity)}\n",
    "        \n",
    "        for candidate_price in candidate_prices.keys():\n",
    "            volume = self.determine_volume(candidate_price)\n",
    "            candidate_prices[candidate_price][\"volume\"] = volume\n",
    "            candidate_prices[candidate_price][\"total_revenue\"] = volume * candidate_price\n",
    "        \n",
    "        return candidate_prices\n",
    "    \n",
    "    def calculate_clearing_price(self, minimum_price=0.00001, granularity=10000):\n",
    "        result_range = self.calculate_full_range(minimum_price, granularity)\n",
    "        df = pd.DataFrame(result_range).T\n",
    "        self.df = df\n",
    "        clearing_price = (\n",
    "            df\n",
    "            .query(\"volume <= @self.total_tokens\")\n",
    "            .reset_index()\n",
    "            .sort_values([\"index\", \"total_revenue\"])\n",
    "            .iloc[0,:]\n",
    "            ['index']\n",
    "        )\n",
    "        return clearing_price"
   ]
  },
  {
   "cell_type": "markdown",
   "id": "926f3654-49a8-4d32-b96d-e539afca87a0",
   "metadata": {},
   "source": [
    "## Generating sample data\n",
    "\n",
    "In case we want to test with artifical data:"
   ]
  },
  {
   "cell_type": "code",
   "execution_count": 5,
   "id": "531b1d5e-1d74-45c6-ac48-f5147ff4914b",
   "metadata": {},
   "outputs": [
    {
     "data": {
      "image/png": "[encoded data removed]",
      "text/plain": [
       "<Figure size 432x288 with 1 Axes>"
      ]
     },
     "metadata": {
      "needs_background": "light"
     },
     "output_type": "display_data"
    }
   ],
   "source": [
    "# setting input parameters\n",
    "n_bidders = 200\n",
    "log_normal_mu = 0\n",
    "log_normal_sd = 1\n",
    "\n",
    "bids = np.random.lognormal(log_normal_mu, log_normal_sd, size=n_bidders)\n",
    "\n",
    "_ = pd.DataFrame(bids).hist(bins=40)"
   ]
  },
  {
   "cell_type": "markdown",
   "id": "876b098c-80ff-4db9-807b-e712a20de386",
   "metadata": {},
   "source": [
    "Reformat to match the input format expected for the algorithm."
   ]
  },
  {
   "cell_type": "code",
   "execution_count": 6,
   "id": "7724d8f1-4c4a-4467-9d04-a0cc3446d86e",
   "metadata": {},
   "outputs": [],
   "source": [
    "#Packing into a dictionary\n",
    "addresses = [f'address_{_}' for _ in np.arange(n_bidders)]\n",
    "\n",
    "b_a = {addr:{\"contribution_in_wei\": bid} for addr,bid in zip(addresses, bids)}"
   ]
  },
  {
   "cell_type": "markdown",
   "id": "5e5e1124-b2a8-4dab-a697-899c3b2d463b",
   "metadata": {
    "tags": []
   },
   "source": [
    "## Running Optimizer"
   ]
  },
  {
   "cell_type": "code",
   "execution_count": 7,
   "id": "c2f64577-7470-4e64-9eef-ffd5b4baa3bf",
   "metadata": {},
   "outputs": [],
   "source": [
    "n_tokens = 150\n",
    "opt = Optimizer(n_tokens, b_a)"
   ]
  },
  {
   "cell_type": "code",
   "execution_count": 9,
   "id": "1f397114-be3c-4f37-b34c-48f30b635f17",
   "metadata": {},
   "outputs": [
    {
     "name": "stdout",
     "output_type": "stream",
     "text": [
      "CPU times: user 5.28 s, sys: 30.1 ms, total: 5.31 s\n",
      "Wall time: 5.31 s\n"
     ]
    }
   ],
   "source": [
    "%%time\n",
    "clearing_price = opt.calculate_clearing_price(granularity=100000)"
   ]
  },
  {
   "cell_type": "markdown",
   "id": "55bbaada-4b3a-4d48-8d29-a56068217112",
   "metadata": {},
   "source": [
    "As mentioned we have a runtim that is way too high for any live usage but given our setup is perfectly feasible. "
   ]
  },
  {
   "cell_type": "code",
   "execution_count": 65,
   "id": "a46d31ec-8e38-4eb9-a85b-92d10db32095",
   "metadata": {},
   "outputs": [
    {
     "data": {
      "text/plain": [
       "0.04625769969726428"
      ]
     },
     "execution_count": 65,
     "metadata": {},
     "output_type": "execute_result"
    }
   ],
   "source": [
    "clearing_price"
   ]
  },
  {
   "cell_type": "markdown",
   "id": "6096f871-c4b8-4b6c-8d9c-b79bb457850f",
   "metadata": {},
   "source": [
    "### Checking results"
   ]
  },
  {
   "cell_type": "markdown",
   "id": "1e792cd8-e977-4797-b64b-62cc96543848",
   "metadata": {},
   "source": [
    "We can roughly assign tokens to all bidders and check the outcome. This is not respecting bid order so only an approximation of what happens in the real world."
   ]
  },
  {
   "cell_type": "code",
   "execution_count": 10,
   "id": "da69090a-1fd7-425b-9a3a-b626acccca9e",
   "metadata": {},
   "outputs": [],
   "source": [
    "import math"
   ]
  },
  {
   "cell_type": "code",
   "execution_count": 11,
   "id": "2c9fb17d-b63b-4e25-b4b6-371daff208cc",
   "metadata": {},
   "outputs": [],
   "source": [
    "assigned_tokens = [math.floor(bid['contribution_in_wei'] / c_p) for bid in b_a.values()]"
   ]
  },
  {
   "cell_type": "code",
   "execution_count": 13,
   "id": "adee5229-e489-40d6-b2bf-63fbe30fb94f",
   "metadata": {},
   "outputs": [
    {
     "data": {
      "text/plain": [
       "[0, 1, 8, 0, 0]"
      ]
     },
     "execution_count": 13,
     "metadata": {},
     "output_type": "execute_result"
    }
   ],
   "source": [
    "assigned_tokens[:5]"
   ]
  },
  {
   "cell_type": "code",
   "execution_count": 14,
   "id": "50b5b4d6-6e23-4b94-ae4a-a96c86225678",
   "metadata": {},
   "outputs": [
    {
     "data": {
      "text/plain": [
       "150"
      ]
     },
     "execution_count": 14,
     "metadata": {},
     "output_type": "execute_result"
    }
   ],
   "source": [
    "sum(assigned_tokens)"
   ]
  },
  {
   "cell_type": "markdown",
   "id": "d81fd9e6-2050-4fba-a1b0-0c75b50cef5e",
   "metadata": {},
   "source": [
    "We got the expecteded tokens assigned. Let's plot total bid per user against the assigned tokens:"
   ]
  },
  {
   "cell_type": "code",
   "execution_count": 18,
   "id": "3e6f8885-c067-461e-9cd9-b0afbd5d9ec6",
   "metadata": {},
   "outputs": [],
   "source": [
    "import matplotlib.pyplot as plt"
   ]
  },
  {
   "cell_type": "code",
   "execution_count": 23,
   "id": "a0baa914-6983-4a43-8272-4c98768f419d",
   "metadata": {},
   "outputs": [
    {
     "data": {
      "image/png": "[encoded data removed]",
      "text/plain": [
       "<Figure size 1152x576 with 1 Axes>"
      ]
     },
     "metadata": {
      "needs_background": "light"
     },
     "output_type": "display_data"
    }
   ],
   "source": [
    "f, ax = plt.subplots(figsize=(16,8))\n",
    "_ = ax.scatter(\n",
    "    bids,\n",
    "    assigned_tokens\n",
    ")"
   ]
  },
  {
   "cell_type": "markdown",
   "id": "35517c00-df51-4e76-b874-759a2afd3444",
   "metadata": {},
   "source": [
    "As we can see there is always a range of bids (on the x axes) which results in a certain number of tokens being assigned. This is due to the \"rounding\" logic in distribution. \n",
    "\n",
    "Sidenote: The overlap in the dots for the groups getting 0 or 1 tokens is actually because we do not simulate the distribution in an ordered fashion here. It can be ignored."
   ]
  },
  {
   "cell_type": "markdown",
   "id": "0e648413-a70b-49a0-adf1-6fd5708e5510",
   "metadata": {},
   "source": [
    "# Wrap-Up\n",
    "\n",
    "Given this relatively simple brute-force approach we achieve an optimal distribution in acceptable time."
   ]
  }
 ],
 "metadata": {
  "kernelspec": {
   "display_name": "Python 3 (ipykernel)",
   "language": "python",
   "name": "python3"
  },
  "language_info": {
   "codemirror_mode": {
    "name": "ipython",
    "version": 3
   },
   "file_extension": ".py",
   "mimetype": "text/x-python",
   "name": "python",
   "nbconvert_exporter": "python",
   "pygments_lexer": "ipython3",
   "version": "3.10.7"
  }
 },
 "nbformat": 4,
 "nbformat_minor": 5
}
